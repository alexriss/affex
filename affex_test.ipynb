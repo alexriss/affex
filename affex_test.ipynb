{
 "cells": [
  {
   "cell_type": "code",
   "execution_count": 1,
   "metadata": {},
   "outputs": [],
   "source": [
    "%matplotlib widget\n",
    "import importlib\n",
    "import affex\n",
    "importlib.reload(affex)\n",
    "import cv2\n",
    "from matplotlib import pylab as plt"
   ]
  },
  {
   "cell_type": "markdown",
   "metadata": {},
   "source": [
    "# Stack frames from a movie"
   ]
  },
  {
   "cell_type": "code",
   "execution_count": 2,
   "metadata": {},
   "outputs": [
    {
     "name": "stdout",
     "output_type": "stream",
     "text": [
      "Total of frames: 630.0, First frame: 0, Last frame: 629\n",
      "[=================== ] 95%\n",
      "Number of frames aligned and stacked: 32\n",
      "\n",
      "Wall time: 1min 6s\n"
     ]
    }
   ],
   "source": [
    "#fname_video = '2017-05-13 15.36.24.mp4'\n",
    "fname_video = '2018-07-29 19.22.22.mp4'\n",
    "#fname_video = '2018-07-29 19.30.40.mp4'\n",
    "%time frame_avg, frame_first, frame_last = affex.stackMovie(fname_video, 0, 1, frame_step=20, align_method='ECC', align=True, align_warp_mode='homography')"
   ]
  },
  {
   "cell_type": "code",
   "execution_count": 4,
   "metadata": {},
   "outputs": [
    {
     "data": {
      "application/vnd.jupyter.widget-view+json": {
       "model_id": "2a3be27458dc4210a83822d2fe74fb47",
       "version_major": 2,
       "version_minor": 0
      },
      "text/plain": [
       "FigureCanvasNbAgg()"
      ]
     },
     "metadata": {},
     "output_type": "display_data"
    },
    {
     "data": {
      "text/plain": [
       "True"
      ]
     },
     "execution_count": 4,
     "metadata": {},
     "output_type": "execute_result"
    }
   ],
   "source": [
    "fig_avg, ax_avg = plt.subplots(1,1, figsize=(6,4))\n",
    "ax_avg = [ax_avg]  # if only one axes\n",
    "ax_avg[0].imshow(cv2.cvtColor(frame_avg, cv2.COLOR_BGR2RGB))\n",
    "#ax_avg[1].imshow(cv2.cvtColor(frame_first, cv2.COLOR_BGR2RGB))\n",
    "#ax_avg[2].imshow(cv2.cvtColor(frame_last, cv2.COLOR_BGR2RGB))\n",
    "fig_avg.tight_layout()\n",
    "cv2.imwrite('image_stacked2.jpg', frame_avg, [int(cv2.IMWRITE_JPEG_QUALITY), 90])\n",
    "#cv2.imwrite('image_first.jpg', frame_first, [int(cv2.IMWRITE_JPEG_QUALITY), 90])\n",
    "#cv2.imwrite('image_last.jpg', frame_last, [int(cv2.IMWRITE_JPEG_QUALITY), 90])"
   ]
  },
  {
   "cell_type": "markdown",
   "metadata": {},
   "source": [
    "# Trail effect"
   ]
  },
  {
   "cell_type": "markdown",
   "metadata": {},
   "source": [
    "## based on aligning to the first image"
   ]
  },
  {
   "cell_type": "code",
   "execution_count": 2,
   "metadata": {},
   "outputs": [
    {
     "name": "stdout",
     "output_type": "stream",
     "text": [
      "Total of frames: 768, First frame: 0, Last frame: 77\n",
      "Processing...\n",
      "1\n",
      "[====================] 100%\n",
      "Number of frames processed: 78\n",
      "\n",
      "Number of frames written: 70\n",
      "\n"
     ]
    }
   ],
   "source": [
    "importlib.reload(affex)\n",
    "affex.createVideoTrail('video.mp4', 'video_trail2.gif', num_frames_fwd=2, num_frames_bwd=5, align=True,\n",
    "                       output_size = 0.5,\n",
    "                 align_method=\"ECC\", align_warp_mode='euclidean', first=0, last=0.1)"
   ]
  },
  {
   "cell_type": "code",
   "execution_count": null,
   "metadata": {},
   "outputs": [],
   "source": []
  }
 ],
 "metadata": {
  "kernelspec": {
   "display_name": "Python 3",
   "language": "python",
   "name": "python3"
  },
  "language_info": {
   "codemirror_mode": {
    "name": "ipython",
    "version": 3
   },
   "file_extension": ".py",
   "mimetype": "text/x-python",
   "name": "python",
   "nbconvert_exporter": "python",
   "pygments_lexer": "ipython3",
   "version": "3.6.6"
  },
  "toc": {
   "base_numbering": 1,
   "nav_menu": {},
   "number_sections": true,
   "sideBar": true,
   "skip_h1_title": false,
   "title_cell": "Table of Contents",
   "title_sidebar": "Contents",
   "toc_cell": false,
   "toc_position": {},
   "toc_section_display": true,
   "toc_window_display": false
  }
 },
 "nbformat": 4,
 "nbformat_minor": 2
}
